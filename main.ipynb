{
 "cells": [
  {
   "cell_type": "code",
   "execution_count": 1,
   "id": "43314ce4",
   "metadata": {},
   "outputs": [],
   "source": [
    "import ngram_model"
   ]
  },
  {
   "cell_type": "code",
   "execution_count": 2,
   "id": "c1dc54ef",
   "metadata": {},
   "outputs": [],
   "source": [
    "BLOG_DIR = \"Blogs/\""
   ]
  },
  {
   "cell_type": "markdown",
   "id": "47da7ecf",
   "metadata": {},
   "source": [
    "Read in the training data and create the n-grams"
   ]
  },
  {
   "cell_type": "code",
   "execution_count": 4,
   "id": "f1dd8efb",
   "metadata": {},
   "outputs": [
    {
     "name": "stdout",
     "output_type": "stream",
     "text": [
      "Now reading 1107146.female.16.Student.Libra.xml\n",
      "Now reading 1151815.male.25.Education.Leo.xml\n",
      "Now reading 1476382.male.33.Publishing.Gemini.xml\n",
      "Now reading 449628.male.34.indUnk.Aries.xml\n",
      "Now reading 470861.male.27.indUnk.Cancer.xml\n",
      "Now reading 554681.female.45.indUnk.Sagittarius.xml\n",
      "Now reading 665500.male.35.indUnk.Aries.xml\n",
      "Now reading 780903.male.25.Student.Aquarius.xml\n",
      "Now reading 942828.female.34.indUnk.Cancer.xml\n",
      "Now reading 958176.male.17.Non-Profit.Gemini.xml\n",
      "Done reading in data\n",
      "Counting tokens please wait\n",
      "Number of tokens: 4468936\n",
      "Number of words: 81436\n",
      "\n",
      "\n",
      "Common n-grams\n",
      "[('<s>', 217404), ('</s>', 217404), (',', 196521), ('.', 187440), ('the', 148630)]\n",
      "[('. </s>', 174128), ('<s> i', 29769), (', and', 19384), ('? </s>', 14642), ('of the', 14445)]\n",
      "[(\". '' </s>\", 10881), ('it . </s>', 4013), (\"i do n't\", 3613), ('-- -- --', 3276), (') . </s>', 3215)]\n",
      "\n",
      "\n"
     ]
    }
   ],
   "source": [
    "blog_text = ngram_model.read_blogs(BLOG_DIR)\n",
    "unigrams, bigrams, trigrams = ngram_model.count_words(blog_text)\n",
    "ngram_model.print_frequent_n_grams(unigrams, bigrams, trigrams, 5)"
   ]
  },
  {
   "cell_type": "markdown",
   "id": "48b2fcf6",
   "metadata": {},
   "source": [
    "Perform predictions on what the next word will be for some sample data"
   ]
  },
  {
   "cell_type": "code",
   "execution_count": 5,
   "id": "799efd8e",
   "metadata": {},
   "outputs": [
    {
     "name": "stdout",
     "output_type": "stream",
     "text": [
      "Now doing this sample input: the past few\n",
      "1-gram Language Model Prediction\n",
      "<s> 0.04777741248407823\n",
      "2-gram Language Model Prediction\n",
      "days 0.0023437406579214846\n",
      "3-gram Language Model Prediction\n",
      "days 0.00034358779281656095\n",
      "\n",
      "\n",
      "Now doing this sample input: pass the salt and\n",
      "1-gram Language Model Prediction\n",
      "<s> 0.04777741248407823\n",
      "2-gram Language Model Prediction\n",
      "i 0.04381246093909712\n",
      "3-gram Language Model Prediction\n",
      "pepper 4.911350130150779e-05\n",
      "\n",
      "\n",
      "Now doing this sample input: jump over\n",
      "1-gram Language Model Prediction\n",
      "<s> 0.04777741248407823\n",
      "2-gram Language Model Prediction\n",
      "the 0.011261001131874986\n",
      "3-gram Language Model Prediction\n",
      "mailboxes 3.6837387492479035e-05\n",
      "\n",
      "\n",
      "Now doing this sample input: in the\n",
      "1-gram Language Model Prediction\n",
      "<s> 0.04777741248407823\n",
      "2-gram Language Model Prediction\n",
      "same 0.007119696087209757\n",
      "3-gram Language Model Prediction\n",
      "world 0.0034549027228952087\n",
      "\n",
      "\n"
     ]
    }
   ],
   "source": [
    "sample_texts = [\"the past few\", \"pass the salt and\", \"jump over\", \"in the\"]\n",
    "for sample in sample_texts:\n",
    "\t\tprint(\"Now doing this sample input: \" + sample)\n",
    "\t\tngram_model.predict(sample, unigrams, bigrams, trigrams)\n",
    "\t\tprint(\"\\n\")"
   ]
  }
 ],
 "metadata": {
  "kernelspec": {
   "display_name": "Python 3",
   "language": "python",
   "name": "python3"
  },
  "language_info": {
   "codemirror_mode": {
    "name": "ipython",
    "version": 3
   },
   "file_extension": ".py",
   "mimetype": "text/x-python",
   "name": "python",
   "nbconvert_exporter": "python",
   "pygments_lexer": "ipython3",
   "version": "3.13.1"
  }
 },
 "nbformat": 4,
 "nbformat_minor": 5
}
